{
 "cells": [
  {
   "cell_type": "markdown",
   "id": "c26d500d",
   "metadata": {},
   "source": [
    "# dataset 구하기"
   ]
  },
  {
   "cell_type": "markdown",
   "id": "b3c82a21",
   "metadata": {},
   "source": [
    "https://public.roboflow.com/"
   ]
  },
  {
   "cell_type": "markdown",
   "id": "6d999c65",
   "metadata": {},
   "source": [
    "https://www.kaggle.com/datasets"
   ]
  }
 ],
 "metadata": {
  "kernelspec": {
   "display_name": "Python 3 (ipykernel)",
   "language": "python",
   "name": "python3"
  },
  "language_info": {
   "codemirror_mode": {
    "name": "ipython",
    "version": 3
   },
   "file_extension": ".py",
   "mimetype": "text/x-python",
   "name": "python",
   "nbconvert_exporter": "python",
   "pygments_lexer": "ipython3",
   "version": "3.9.7"
  }
 },
 "nbformat": 4,
 "nbformat_minor": 5
}
